{
 "cells": [
  {
   "cell_type": "code",
   "execution_count": 31,
   "id": "35cd5752",
   "metadata": {},
   "outputs": [
    {
     "name": "stdout",
     "output_type": "stream",
     "text": [
      "Epoch 1/20\n",
      "480/480 [==============================] - 0s 709us/step - loss: 0.3607 - accuracy: 0.8384 - val_loss: 0.2872 - val_accuracy: 0.8886\n",
      "Epoch 2/20\n",
      "480/480 [==============================] - 0s 604us/step - loss: 0.2267 - accuracy: 0.9063 - val_loss: 0.1900 - val_accuracy: 0.9103\n",
      "Epoch 3/20\n",
      "480/480 [==============================] - 0s 592us/step - loss: 0.1716 - accuracy: 0.9159 - val_loss: 0.1640 - val_accuracy: 0.9134\n",
      "Epoch 4/20\n",
      "480/480 [==============================] - 0s 619us/step - loss: 0.1548 - accuracy: 0.9189 - val_loss: 0.1608 - val_accuracy: 0.9189\n",
      "Epoch 5/20\n",
      "480/480 [==============================] - 0s 623us/step - loss: 0.1427 - accuracy: 0.9252 - val_loss: 0.1446 - val_accuracy: 0.9163\n",
      "Epoch 6/20\n",
      "480/480 [==============================] - 0s 618us/step - loss: 0.1393 - accuracy: 0.9256 - val_loss: 0.1384 - val_accuracy: 0.9165\n",
      "Epoch 7/20\n",
      "480/480 [==============================] - 0s 603us/step - loss: 0.1282 - accuracy: 0.9266 - val_loss: 0.1279 - val_accuracy: 0.9163\n",
      "Epoch 8/20\n",
      "480/480 [==============================] - 0s 594us/step - loss: 0.1212 - accuracy: 0.9276 - val_loss: 0.1236 - val_accuracy: 0.9176\n",
      "Epoch 9/20\n",
      "480/480 [==============================] - 0s 613us/step - loss: 0.1169 - accuracy: 0.9283 - val_loss: 0.1224 - val_accuracy: 0.9212\n",
      "Epoch 10/20\n",
      "480/480 [==============================] - 0s 614us/step - loss: 0.1287 - accuracy: 0.9222 - val_loss: 0.1177 - val_accuracy: 0.9230\n",
      "Epoch 11/20\n",
      "480/480 [==============================] - 0s 596us/step - loss: 0.1095 - accuracy: 0.9307 - val_loss: 0.1098 - val_accuracy: 0.9249\n",
      "Epoch 12/20\n",
      "480/480 [==============================] - 0s 646us/step - loss: 0.1065 - accuracy: 0.9275 - val_loss: 0.1087 - val_accuracy: 0.9243\n",
      "Epoch 13/20\n",
      "480/480 [==============================] - 0s 640us/step - loss: 0.1031 - accuracy: 0.9272 - val_loss: 0.1137 - val_accuracy: 0.9306\n",
      "Epoch 14/20\n",
      "480/480 [==============================] - 0s 640us/step - loss: 0.1013 - accuracy: 0.9296 - val_loss: 0.1081 - val_accuracy: 0.9335\n",
      "Epoch 15/20\n",
      "480/480 [==============================] - 0s 624us/step - loss: 0.1127 - accuracy: 0.9270 - val_loss: 0.1082 - val_accuracy: 0.9330\n",
      "Epoch 16/20\n",
      "480/480 [==============================] - 0s 605us/step - loss: 0.0969 - accuracy: 0.9330 - val_loss: 0.0984 - val_accuracy: 0.9314\n",
      "Epoch 17/20\n",
      "480/480 [==============================] - 0s 609us/step - loss: 0.0957 - accuracy: 0.9380 - val_loss: 0.1130 - val_accuracy: 0.9309\n",
      "Epoch 18/20\n",
      "480/480 [==============================] - 0s 621us/step - loss: 0.0966 - accuracy: 0.9363 - val_loss: 0.1179 - val_accuracy: 0.9267\n",
      "Epoch 19/20\n",
      "480/480 [==============================] - 0s 618us/step - loss: 0.0972 - accuracy: 0.9366 - val_loss: 0.1044 - val_accuracy: 0.9382\n",
      "Epoch 20/20\n",
      "480/480 [==============================] - 0s 607us/step - loss: 0.0968 - accuracy: 0.9414 - val_loss: 0.2600 - val_accuracy: 0.9113\n",
      "Epoch 1/20\n",
      "480/480 [==============================] - 0s 665us/step - loss: 0.0969 - accuracy: 0.9389 - val_loss: 0.1009 - val_accuracy: 0.9421\n",
      "Epoch 2/20\n",
      "480/480 [==============================] - 0s 628us/step - loss: 0.0915 - accuracy: 0.9408 - val_loss: 0.0975 - val_accuracy: 0.9390\n",
      "Epoch 3/20\n",
      "480/480 [==============================] - 0s 620us/step - loss: 0.0926 - accuracy: 0.9424 - val_loss: 0.1069 - val_accuracy: 0.9322\n",
      "Epoch 4/20\n",
      "480/480 [==============================] - 0s 604us/step - loss: 0.0900 - accuracy: 0.9427 - val_loss: 0.1169 - val_accuracy: 0.9270\n",
      "Epoch 5/20\n",
      "480/480 [==============================] - 0s 604us/step - loss: 0.1111 - accuracy: 0.9410 - val_loss: 0.1192 - val_accuracy: 0.9369\n",
      "Epoch 6/20\n",
      "480/480 [==============================] - 0s 606us/step - loss: 0.0917 - accuracy: 0.9412 - val_loss: 0.0962 - val_accuracy: 0.9397\n",
      "Epoch 7/20\n",
      "480/480 [==============================] - 0s 607us/step - loss: 0.0904 - accuracy: 0.9460 - val_loss: 0.2395 - val_accuracy: 0.9251\n",
      "Epoch 8/20\n",
      "480/480 [==============================] - 0s 604us/step - loss: 0.0922 - accuracy: 0.9458 - val_loss: 0.1033 - val_accuracy: 0.9376\n",
      "Epoch 9/20\n",
      "480/480 [==============================] - 0s 609us/step - loss: 0.0869 - accuracy: 0.9465 - val_loss: 0.1019 - val_accuracy: 0.9332\n",
      "Epoch 10/20\n",
      "480/480 [==============================] - 0s 606us/step - loss: 0.1044 - accuracy: 0.9404 - val_loss: 0.1269 - val_accuracy: 0.9290\n",
      "Epoch 11/20\n",
      "480/480 [==============================] - 0s 626us/step - loss: 0.0932 - accuracy: 0.9406 - val_loss: 0.0972 - val_accuracy: 0.9384\n",
      "Epoch 12/20\n",
      "480/480 [==============================] - 0s 615us/step - loss: 0.0896 - accuracy: 0.9441 - val_loss: 0.0946 - val_accuracy: 0.9395\n",
      "Epoch 13/20\n",
      "480/480 [==============================] - 0s 606us/step - loss: 0.0864 - accuracy: 0.9463 - val_loss: 0.0957 - val_accuracy: 0.9429\n",
      "Epoch 14/20\n",
      "480/480 [==============================] - 0s 636us/step - loss: 0.1001 - accuracy: 0.9427 - val_loss: 0.0970 - val_accuracy: 0.9392\n",
      "Epoch 15/20\n",
      "480/480 [==============================] - 0s 632us/step - loss: 0.0855 - accuracy: 0.9468 - val_loss: 0.0958 - val_accuracy: 0.9397\n",
      "Epoch 16/20\n",
      "480/480 [==============================] - 0s 626us/step - loss: 0.0868 - accuracy: 0.9485 - val_loss: 0.0923 - val_accuracy: 0.9387\n",
      "Epoch 17/20\n",
      "480/480 [==============================] - 0s 606us/step - loss: 0.0862 - accuracy: 0.9489 - val_loss: 0.0939 - val_accuracy: 0.9465\n",
      "Epoch 18/20\n",
      "480/480 [==============================] - 0s 602us/step - loss: 0.0860 - accuracy: 0.9457 - val_loss: 0.0984 - val_accuracy: 0.9457\n",
      "Epoch 19/20\n",
      "480/480 [==============================] - 0s 634us/step - loss: 0.0962 - accuracy: 0.9453 - val_loss: 0.0957 - val_accuracy: 0.9348\n",
      "Epoch 20/20\n",
      "480/480 [==============================] - 0s 652us/step - loss: 0.0878 - accuracy: 0.9450 - val_loss: 0.0975 - val_accuracy: 0.9361\n",
      "150/150 [==============================] - 0s 347us/step - loss: 0.0916 - accuracy: 0.9462\n",
      "Accuracy: 0.9461602568626404\n",
      "150/150 [==============================] - 0s 300us/step\n",
      "AUC: 0.9888385341036859\n"
     ]
    }
   ],
   "source": [
    "# Import necessary libraries\n",
    "import numpy as np\n",
    "import pandas as pd\n",
    "from sklearn.neighbors import KNeighborsClassifier\n",
    "import tensorflow as tf\n",
    "from tensorflow import keras\n",
    "from tensorflow.keras import layers\n",
    "from sklearn.model_selection import train_test_split\n",
    "from tensorflow.keras.models import Sequential\n",
    "from tensorflow.keras.layers import Dense\n",
    "from sklearn.metrics import roc_auc_score\n",
    "\n",
    "\n",
    "data = pd.read_csv('../Feature Engineering/data_post_pca.csv')\n",
    "\n",
    "X_pca = data.drop('label', axis=1)\n",
    "y = data['label']\n",
    "\n",
    "# Split the data into training, validation, and test sets\n",
    "X_train, X_test, y_train, y_test = train_test_split(X_pca, y, test_size=0.2, random_state=42)\n",
    "X_train, X_val, y_train, y_val = train_test_split(X_train, y_train, test_size=0.2, random_state=42)\n",
    "\n",
    "# Define the ANN model architecture\n",
    "# model = Sequential()\n",
    "# model.add(Dense(64, input_dim=X_train.shape[-1], activation='relu'))\n",
    "# model.add(Dense(128, activation='relu'))\n",
    "# # model.add(Dense(128, activation='relu'))\n",
    "# model.add(Dense(64, activation='relu'))\n",
    "# model.add(Dense(32, activation='relu'))\n",
    "# model.add(Dense(1, activation='sigmoid'))\n",
    "# model.compile(loss='binary_crossentropy', optimizer='adam', metrics=['accuracy'])\n",
    "\n",
    "model = Sequential()\n",
    "model.add(Dense(64, input_dim=X_train.shape[-1], activation='relu'))\n",
    "model.add(Dense(128, activation='relu'))\n",
    "model.add(Dense(64, activation='relu'))\n",
    "model.add(Dense(1, activation='sigmoid'))\n",
    "model.compile(loss='binary_crossentropy', optimizer='adam', metrics=['accuracy'])\n",
    "model.fit(X_train, y_train, epochs=20, batch_size=32, validation_data=(X_val, y_val))\n",
    "\n",
    "\n",
    "\n",
    "# Train the model\n",
    "model.fit(X_train, y_train, epochs=20, batch_size=32, validation_data=(X_val, y_val))\n",
    "\n",
    "\n",
    "\n",
    "# Evaluate the model\n",
    "_, accuracy = model.evaluate(X_test, y_test)\n",
    "print(f\"Accuracy: {accuracy}\")\n",
    "y_prob = model.predict(X_test)\n",
    "auc = roc_auc_score(y_test, y_prob)\n",
    "\n",
    "print(\"AUC:\", auc)\n"
   ]
  },
  {
   "cell_type": "code",
   "execution_count": 36,
   "id": "e4672e4e",
   "metadata": {},
   "outputs": [
    {
     "name": "stdout",
     "output_type": "stream",
     "text": [
      "480/480 [==============================] - 0s 259us/step\n"
     ]
    },
    {
     "data": {
      "text/html": [
       "<style>#sk-container-id-11 {color: black;background-color: white;}#sk-container-id-11 pre{padding: 0;}#sk-container-id-11 div.sk-toggleable {background-color: white;}#sk-container-id-11 label.sk-toggleable__label {cursor: pointer;display: block;width: 100%;margin-bottom: 0;padding: 0.3em;box-sizing: border-box;text-align: center;}#sk-container-id-11 label.sk-toggleable__label-arrow:before {content: \"▸\";float: left;margin-right: 0.25em;color: #696969;}#sk-container-id-11 label.sk-toggleable__label-arrow:hover:before {color: black;}#sk-container-id-11 div.sk-estimator:hover label.sk-toggleable__label-arrow:before {color: black;}#sk-container-id-11 div.sk-toggleable__content {max-height: 0;max-width: 0;overflow: hidden;text-align: left;background-color: #f0f8ff;}#sk-container-id-11 div.sk-toggleable__content pre {margin: 0.2em;color: black;border-radius: 0.25em;background-color: #f0f8ff;}#sk-container-id-11 input.sk-toggleable__control:checked~div.sk-toggleable__content {max-height: 200px;max-width: 100%;overflow: auto;}#sk-container-id-11 input.sk-toggleable__control:checked~label.sk-toggleable__label-arrow:before {content: \"▾\";}#sk-container-id-11 div.sk-estimator input.sk-toggleable__control:checked~label.sk-toggleable__label {background-color: #d4ebff;}#sk-container-id-11 div.sk-label input.sk-toggleable__control:checked~label.sk-toggleable__label {background-color: #d4ebff;}#sk-container-id-11 input.sk-hidden--visually {border: 0;clip: rect(1px 1px 1px 1px);clip: rect(1px, 1px, 1px, 1px);height: 1px;margin: -1px;overflow: hidden;padding: 0;position: absolute;width: 1px;}#sk-container-id-11 div.sk-estimator {font-family: monospace;background-color: #f0f8ff;border: 1px dotted black;border-radius: 0.25em;box-sizing: border-box;margin-bottom: 0.5em;}#sk-container-id-11 div.sk-estimator:hover {background-color: #d4ebff;}#sk-container-id-11 div.sk-parallel-item::after {content: \"\";width: 100%;border-bottom: 1px solid gray;flex-grow: 1;}#sk-container-id-11 div.sk-label:hover label.sk-toggleable__label {background-color: #d4ebff;}#sk-container-id-11 div.sk-serial::before {content: \"\";position: absolute;border-left: 1px solid gray;box-sizing: border-box;top: 0;bottom: 0;left: 50%;z-index: 0;}#sk-container-id-11 div.sk-serial {display: flex;flex-direction: column;align-items: center;background-color: white;padding-right: 0.2em;padding-left: 0.2em;position: relative;}#sk-container-id-11 div.sk-item {position: relative;z-index: 1;}#sk-container-id-11 div.sk-parallel {display: flex;align-items: stretch;justify-content: center;background-color: white;position: relative;}#sk-container-id-11 div.sk-item::before, #sk-container-id-11 div.sk-parallel-item::before {content: \"\";position: absolute;border-left: 1px solid gray;box-sizing: border-box;top: 0;bottom: 0;left: 50%;z-index: -1;}#sk-container-id-11 div.sk-parallel-item {display: flex;flex-direction: column;z-index: 1;position: relative;background-color: white;}#sk-container-id-11 div.sk-parallel-item:first-child::after {align-self: flex-end;width: 50%;}#sk-container-id-11 div.sk-parallel-item:last-child::after {align-self: flex-start;width: 50%;}#sk-container-id-11 div.sk-parallel-item:only-child::after {width: 0;}#sk-container-id-11 div.sk-dashed-wrapped {border: 1px dashed gray;margin: 0 0.4em 0.5em 0.4em;box-sizing: border-box;padding-bottom: 0.4em;background-color: white;}#sk-container-id-11 div.sk-label label {font-family: monospace;font-weight: bold;display: inline-block;line-height: 1.2em;}#sk-container-id-11 div.sk-label-container {text-align: center;}#sk-container-id-11 div.sk-container {/* jupyter's `normalize.less` sets `[hidden] { display: none; }` but bootstrap.min.css set `[hidden] { display: none !important; }` so we also need the `!important` here to be able to override the default hidden behavior on the sphinx rendered scikit-learn.org. See: https://github.com/scikit-learn/scikit-learn/issues/21755 */display: inline-block !important;position: relative;}#sk-container-id-11 div.sk-text-repr-fallback {display: none;}</style><div id=\"sk-container-id-11\" class=\"sk-top-container\"><div class=\"sk-text-repr-fallback\"><pre>KNeighborsClassifier(n_neighbors=2)</pre><b>In a Jupyter environment, please rerun this cell to show the HTML representation or trust the notebook. <br />On GitHub, the HTML representation is unable to render, please try loading this page with nbviewer.org.</b></div><div class=\"sk-container\" hidden><div class=\"sk-item\"><div class=\"sk-estimator sk-toggleable\"><input class=\"sk-toggleable__control sk-hidden--visually\" id=\"sk-estimator-id-11\" type=\"checkbox\" checked><label for=\"sk-estimator-id-11\" class=\"sk-toggleable__label sk-toggleable__label-arrow\">KNeighborsClassifier</label><div class=\"sk-toggleable__content\"><pre>KNeighborsClassifier(n_neighbors=2)</pre></div></div></div></div></div>"
      ],
      "text/plain": [
       "KNeighborsClassifier(n_neighbors=2)"
      ]
     },
     "execution_count": 36,
     "metadata": {},
     "output_type": "execute_result"
    }
   ],
   "source": [
    "# Get the embedding of the last layer (penultimate layer)\n",
    "embedding_layer_model = keras.Model(inputs=model.input, outputs=model.layers[-2].output)\n",
    "embedding = embedding_layer_model.predict(X_train)\n",
    "\n",
    "# Use the embedding to feed into KNN\n",
    "k = 2\n",
    "knn = KNeighborsClassifier(n_neighbors=k)\n",
    "knn.fit(embedding, y_train)"
   ]
  },
  {
   "cell_type": "code",
   "execution_count": 37,
   "id": "e6a0f822",
   "metadata": {},
   "outputs": [
    {
     "name": "stdout",
     "output_type": "stream",
     "text": [
      "150/150 [==============================] - 0s 315us/step\n",
      "Accuracy: 0.9630634390651085\n"
     ]
    },
    {
     "name": "stderr",
     "output_type": "stream",
     "text": [
      "/Users/pratikjadhav/opt/anaconda3/lib/python3.9/site-packages/sklearn/neighbors/_classification.py:237: FutureWarning: Unlike other reduction functions (e.g. `skew`, `kurtosis`), the default behavior of `mode` typically preserves the axis it acts along. In SciPy 1.11.0, this behavior will change: the default value of `keepdims` will become False, the `axis` over which the statistic is taken will be eliminated, and the value None will no longer be accepted. Set `keepdims` to True or False to avoid this warning.\n",
      "  mode, _ = stats.mode(_y[neigh_ind, k], axis=1)\n"
     ]
    }
   ],
   "source": [
    "# Getting accuracy score\n",
    "from sklearn.metrics import accuracy_score\n",
    "from sklearn.metrics import classification_report, confusion_matrix\n",
    "\n",
    "embedding_test = embedding_layer_model.predict(X_test)\n",
    "# Use the trained classifier to make predictions on the test data\n",
    "y_pred = knn.predict(embedding_test)\n",
    "\n",
    "def evaluate_accuracy(y_true, y_pred):\n",
    "    return accuracy_score(y_true, y_pred)\n",
    "print(\"Accuracy:\", evaluate_accuracy(y_test,y_pred))"
   ]
  }
 ],
 "metadata": {
  "kernelspec": {
   "display_name": "Python 3 (ipykernel)",
   "language": "python",
   "name": "python3"
  },
  "language_info": {
   "codemirror_mode": {
    "name": "ipython",
    "version": 3
   },
   "file_extension": ".py",
   "mimetype": "text/x-python",
   "name": "python",
   "nbconvert_exporter": "python",
   "pygments_lexer": "ipython3",
   "version": "3.9.13"
  }
 },
 "nbformat": 4,
 "nbformat_minor": 5
}
