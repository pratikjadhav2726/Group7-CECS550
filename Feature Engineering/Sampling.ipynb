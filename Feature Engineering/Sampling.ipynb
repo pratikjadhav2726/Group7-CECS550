{
 "cells": [
  {
   "cell_type": "code",
   "execution_count": 6,
   "id": "7b6b995d",
   "metadata": {},
   "outputs": [],
   "source": [
    "import pandas as pd\n",
    "from sklearn.utils import resample\n",
    "\n",
    "def upsample(data):\n",
    "    # Load dataset\n",
    "#     data = pd.read_csv('feature_Engineered_train.csv')\n",
    "    # Separate data by label\n",
    "    class0 = data[data['label'] == 0]\n",
    "    class1 = data[data['label'] == 1]\n",
    "\n",
    "    # Upsample minority class 1\n",
    "    class1_upsampled = resample(class1, replace=True, n_samples=len(class0), random_state=123)\n",
    "\n",
    "    # Combine upsampled data with original class 0 data\n",
    "    upsampled_data = pd.concat([class0, class1_upsampled])\n",
    "\n",
    "#     upsampled_data.to_csv('feature_Engineered_train_upsampled.csv', index=False)\n",
    "    # Print the upsampled data\n",
    "    return upsampled_data"
   ]
  },
  {
   "cell_type": "code",
   "execution_count": null,
   "id": "7f9d150a",
   "metadata": {},
   "outputs": [],
   "source": [
    "def downsample(df):\n",
    "    # Count number of samples in each class\n",
    "    class_counts = df['label'].value_counts()\n",
    "\n",
    "    # Determine the smallest class size\n",
    "    min_class_size = class_counts.min()\n",
    "\n",
    "    # Downsample each class to the minimum size\n",
    "    downsampled_data = pd.DataFrame()\n",
    "    for class_label, group in df.groupby('label'):\n",
    "        downsampled_group = group.sample(min_class_size, random_state=42)\n",
    "        downsampled_data = downsampled_data.append(downsampled_group)\n",
    "\n",
    "    # Save downsampled data to file\n",
    "#     downsampled_data.to_csv('feature_Engineered_train_downsampled.csv', index=False)\n",
    "    return downsampled_data"
   ]
  }
 ],
 "metadata": {
  "kernelspec": {
   "display_name": "Python 3 (ipykernel)",
   "language": "python",
   "name": "python3"
  },
  "language_info": {
   "codemirror_mode": {
    "name": "ipython",
    "version": 3
   },
   "file_extension": ".py",
   "mimetype": "text/x-python",
   "name": "python",
   "nbconvert_exporter": "python",
   "pygments_lexer": "ipython3",
   "version": "3.9.13"
  }
 },
 "nbformat": 4,
 "nbformat_minor": 5
}
