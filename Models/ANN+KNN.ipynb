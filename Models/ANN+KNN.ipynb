{
 "cells": [
  {
   "cell_type": "code",
   "execution_count": 1,
   "id": "ea638d7e",
   "metadata": {},
   "outputs": [
    {
     "name": "stdout",
     "output_type": "stream",
     "text": [
      "Epoch 1/20\n",
      "  1/473 [..............................] - ETA: 1:19 - loss: 0.7435 - accuracy: 0.2500"
     ]
    },
    {
     "name": "stderr",
     "output_type": "stream",
     "text": [
      "2023-05-03 04:33:30.853959: W tensorflow/core/platform/profile_utils/cpu_utils.cc:128] Failed to get CPU frequency: 0 Hz\n"
     ]
    },
    {
     "name": "stdout",
     "output_type": "stream",
     "text": [
      "473/473 [==============================] - 1s 798us/step - loss: 0.3638 - accuracy: 0.8362 - val_loss: 0.3267 - val_accuracy: 0.8485\n",
      "Epoch 2/20\n",
      "473/473 [==============================] - 0s 620us/step - loss: 0.2617 - accuracy: 0.8846 - val_loss: 0.1986 - val_accuracy: 0.9210\n",
      "Epoch 3/20\n",
      "473/473 [==============================] - 0s 605us/step - loss: 0.1519 - accuracy: 0.9268 - val_loss: 0.1372 - val_accuracy: 0.9220\n",
      "Epoch 4/20\n",
      "473/473 [==============================] - 0s 600us/step - loss: 0.1218 - accuracy: 0.9331 - val_loss: 0.1183 - val_accuracy: 0.9305\n",
      "Epoch 5/20\n",
      "473/473 [==============================] - 0s 598us/step - loss: 0.1137 - accuracy: 0.9330 - val_loss: 0.1192 - val_accuracy: 0.9249\n",
      "Epoch 6/20\n",
      "473/473 [==============================] - 0s 606us/step - loss: 0.1053 - accuracy: 0.9334 - val_loss: 0.1046 - val_accuracy: 0.9239\n",
      "Epoch 7/20\n",
      "473/473 [==============================] - 0s 627us/step - loss: 0.1130 - accuracy: 0.9294 - val_loss: 0.1041 - val_accuracy: 0.9223\n",
      "Epoch 8/20\n",
      "473/473 [==============================] - 0s 609us/step - loss: 0.0953 - accuracy: 0.9323 - val_loss: 0.0992 - val_accuracy: 0.9218\n",
      "Epoch 9/20\n",
      "473/473 [==============================] - 0s 598us/step - loss: 0.0924 - accuracy: 0.9306 - val_loss: 0.0967 - val_accuracy: 0.9273\n",
      "Epoch 10/20\n",
      "473/473 [==============================] - 0s 600us/step - loss: 0.0913 - accuracy: 0.9318 - val_loss: 0.1003 - val_accuracy: 0.9194\n",
      "Epoch 11/20\n",
      "473/473 [==============================] - 0s 602us/step - loss: 0.0890 - accuracy: 0.9342 - val_loss: 0.1007 - val_accuracy: 0.9329\n",
      "Epoch 12/20\n",
      "473/473 [==============================] - 0s 631us/step - loss: 0.0883 - accuracy: 0.9342 - val_loss: 0.0961 - val_accuracy: 0.9350\n",
      "Epoch 13/20\n",
      "473/473 [==============================] - 0s 612us/step - loss: 0.1113 - accuracy: 0.9291 - val_loss: 0.1002 - val_accuracy: 0.9236\n",
      "Epoch 14/20\n",
      "473/473 [==============================] - 0s 614us/step - loss: 0.0908 - accuracy: 0.9356 - val_loss: 0.0952 - val_accuracy: 0.9281\n",
      "Epoch 15/20\n",
      "473/473 [==============================] - 0s 598us/step - loss: 0.0866 - accuracy: 0.9372 - val_loss: 0.0910 - val_accuracy: 0.9344\n",
      "Epoch 16/20\n",
      "473/473 [==============================] - 0s 591us/step - loss: 0.0858 - accuracy: 0.9367 - val_loss: 0.0961 - val_accuracy: 0.9331\n",
      "Epoch 17/20\n",
      "473/473 [==============================] - 0s 595us/step - loss: 0.0870 - accuracy: 0.9404 - val_loss: 0.0928 - val_accuracy: 0.9360\n",
      "Epoch 18/20\n",
      "473/473 [==============================] - 0s 597us/step - loss: 0.0862 - accuracy: 0.9416 - val_loss: 0.0910 - val_accuracy: 0.9418\n",
      "Epoch 19/20\n",
      "473/473 [==============================] - 0s 587us/step - loss: 0.0868 - accuracy: 0.9440 - val_loss: 0.0903 - val_accuracy: 0.9376\n",
      "Epoch 20/20\n",
      "473/473 [==============================] - 0s 581us/step - loss: 0.0848 - accuracy: 0.9433 - val_loss: 0.0885 - val_accuracy: 0.9477\n",
      "148/148 [==============================] - 0s 292us/step\n"
     ]
    }
   ],
   "source": [
    "# Import necessary libraries\n",
    "%run '../Feature Engineering/Sampling.ipynb'\n",
    "\n",
    "import numpy as np\n",
    "import pandas as pd\n",
    "from sklearn.neighbors import KNeighborsClassifier\n",
    "import tensorflow as tf\n",
    "from tensorflow import keras\n",
    "from tensorflow.keras import layers\n",
    "from sklearn.model_selection import train_test_split\n",
    "from tensorflow.keras.models import Sequential\n",
    "from tensorflow.keras.layers import Dense\n",
    "from sklearn.metrics import roc_auc_score\n",
    "\n",
    "\n",
    "data = pd.read_csv('../Feature Engineering/data_post_pca.csv')\n",
    "data=data.dropna()\n",
    "X_pca = data.drop('label', axis=1)\n",
    "# X_pca=data.drop('')\n",
    "y = data['label']\n",
    "\n",
    "# Split the data into training, validation, and test sets\n",
    "X_train, X_test, y_train, y_test = train_test_split(X_pca, y, test_size=0.2, random_state=42)\n",
    "X_train, X_val, y_train, y_val = train_test_split(X_train, y_train, test_size=0.2, random_state=42)\n",
    "\n",
    "\n",
    "import pandas as pd\n",
    "from sklearn.utils import resample\n",
    "\n",
    "# df_train=X_train\n",
    "# df_train['label']=y_train\n",
    "# df_train=upsample(df_train)\n",
    "# X_train=df_train.drop('label',axis=1)\n",
    "# y_train=df_train['label']\n",
    "\n",
    "\n",
    "\n",
    "\n",
    "# Define the ANN model architecture\n",
    "# model = Sequential()\n",
    "# model.add(Dense(64, input_dim=X_train.shape[-1], activation='relu'))\n",
    "# model.add(Dense(128, activation='relu'))\n",
    "# # model.add(Dense(128, activation='relu'))\n",
    "# model.add(Dense(64, activation='relu'))\n",
    "# model.add(Dense(32, activation='relu'))\n",
    "# model.add(Dense(1, activation='sigmoid'))\n",
    "# model.compile(loss='binary_crossentropy', optimizer='adam', metrics=['accuracy'])\n",
    "\n",
    "model = Sequential()\n",
    "model.add(Dense(64, input_dim=X_train.shape[-1], activation='relu'))\n",
    "model.add(Dense(128, activation='relu'))\n",
    "model.add(Dense(64, activation='relu'))\n",
    "model.add(Dense(1, activation='sigmoid'))\n",
    "model.compile(loss='binary_crossentropy', optimizer='adam', metrics=['accuracy'])\n",
    "# model.fit(X_train, y_train, epochs=20, batch_size=32, validation_data=(X_val, y_val))\n",
    "\n",
    "\n",
    "\n",
    "# Train the model\n",
    "model.fit(X_train, y_train, epochs=20, batch_size=32, validation_data=(X_val, y_val))\n",
    "\n",
    "\n",
    "\n",
    "# print(f\"Accuracy: {accuracy}\")\n",
    "y_pred = model.predict(X_test)\n"
   ]
  },
  {
   "cell_type": "code",
   "execution_count": 2,
   "id": "6fc1f2d9",
   "metadata": {},
   "outputs": [
    {
     "name": "stdout",
     "output_type": "stream",
     "text": [
      "Accuracy: 0.9458659336011842\n",
      "Precision: 0.7936670071501533\n",
      "Recall: 0.9350180505415162\n",
      "F1 Score: 0.8585635359116022\n",
      "Confusion Matrix:\n",
      " [[3696  202]\n",
      " [  54  777]]\n"
     ]
    }
   ],
   "source": [
    "from sklearn.metrics import accuracy_score, precision_score, recall_score, f1_score, confusion_matrix\n",
    "\n",
    "y_pred = [1 if x > 0.5 else 0 for x in y_pred]\n",
    "# y_test contains the actual labels for the test dataset\n",
    "# y_pred contains the predicted labels by KNN model for the test dataset\n",
    "\n",
    "# Calculate accuracy\n",
    "accuracy = accuracy_score(y_test, y_pred)\n",
    "\n",
    "# Calculate precision\n",
    "precision = precision_score(y_test, y_pred)\n",
    "\n",
    "# Calculate recall\n",
    "recall = recall_score(y_test, y_pred)\n",
    "\n",
    "# Calculate F1 score\n",
    "f1 = f1_score(y_test, y_pred)\n",
    "\n",
    "# Calculate confusion matrix\n",
    "cm = confusion_matrix(y_test, y_pred)\n",
    "\n",
    "# Print the results\n",
    "print(\"Accuracy:\", accuracy)\n",
    "print(\"Precision:\", precision)\n",
    "print(\"Recall:\", recall)\n",
    "print(\"F1 Score:\", f1)\n",
    "print(\"Confusion Matrix:\\n\", cm)\n"
   ]
  },
  {
   "cell_type": "code",
   "execution_count": 3,
   "id": "49cd8752",
   "metadata": {},
   "outputs": [
    {
     "name": "stdout",
     "output_type": "stream",
     "text": [
      "473/473 [==============================] - 0s 272us/step\n"
     ]
    }
   ],
   "source": [
    "# Get the embedding of the last layer (penultimate layer)\n",
    "embedding_layer_model = keras.Model(inputs=model.input, outputs=model.layers[-2].output)\n",
    "embedding = embedding_layer_model.predict(X_train)\n",
    "\n"
   ]
  },
  {
   "cell_type": "code",
   "execution_count": 4,
   "id": "8f0489d6",
   "metadata": {},
   "outputs": [],
   "source": [
    "# # Finding best hyperparameters\n",
    "# from sklearn.neighbors import KNeighborsClassifier\n",
    "# from sklearn.metrics import precision_score\n",
    "# from sklearn.metrics import recall_score\n",
    "# k_values = np.arange(1, 20)\n",
    "# distance_metrics = ['euclidean', 'manhattan', 'chebyshev']\n",
    "# best_accuracy = 0\n",
    "# best_params = {}\n",
    "# for k in k_values:\n",
    "#     for metric in distance_metrics:\n",
    "#         knn = KNeighborsClassifier(n_neighbors=k, metric=metric)\n",
    "#         knn.fit(embedding, y_train)\n",
    "#         y_pred = knn.predict(embedding_test)\n",
    "#         accuracy = evaluate_accuracy(y_test, y_pred)\n",
    "#         print(y_test.shape,y_pred.shape)\n",
    "#         recall = recall_score(y_test, y_pred, average='binary')\n",
    "#         precision = precision_score(y_test, y_pred, average='binary')\n",
    "#         print(f\"Run {k} using {metric}: Accuracy--->{accuracy} Precision:{precision} Recall:{recall}\")\n",
    "#         if accuracy > best_accuracy:\n",
    "#             best_accuracy = accuracy\n",
    "#             best_params = {'k': k, 'metric': metric}\n",
    "# print(f\"Best accuracy: {best_accuracy}\")\n",
    "# print(f\"Best params: {best_params}\")"
   ]
  },
  {
   "cell_type": "code",
   "execution_count": 5,
   "id": "b5bc145b",
   "metadata": {},
   "outputs": [
    {
     "name": "stdout",
     "output_type": "stream",
     "text": [
      "148/148 [==============================] - 0s 258us/step\n"
     ]
    }
   ],
   "source": [
    "# Use the embedding to feed into KNN\n",
    "k = 1\n",
    "knn = KNeighborsClassifier(n_neighbors=k)\n",
    "knn.fit(embedding, y_train)\n",
    "embedding_test = embedding_layer_model.predict(X_test)"
   ]
  },
  {
   "cell_type": "code",
   "execution_count": 6,
   "id": "b2882722",
   "metadata": {},
   "outputs": [
    {
     "name": "stdout",
     "output_type": "stream",
     "text": [
      "Accuracy: 0.9816028758722775\n",
      "Precision: 0.9418052256532067\n",
      "Recall: 0.9542719614921781\n",
      "F1 Score: 0.9479976090854753\n",
      "Confusion Matrix:\n",
      " [[3849   49]\n",
      " [  38  793]]\n"
     ]
    },
    {
     "name": "stderr",
     "output_type": "stream",
     "text": [
      "/Users/pratikjadhav/opt/anaconda3/lib/python3.9/site-packages/sklearn/neighbors/_classification.py:237: FutureWarning: Unlike other reduction functions (e.g. `skew`, `kurtosis`), the default behavior of `mode` typically preserves the axis it acts along. In SciPy 1.11.0, this behavior will change: the default value of `keepdims` will become False, the `axis` over which the statistic is taken will be eliminated, and the value None will no longer be accepted. Set `keepdims` to True or False to avoid this warning.\n",
      "  mode, _ = stats.mode(_y[neigh_ind, k], axis=1)\n"
     ]
    }
   ],
   "source": [
    "# Getting accuracy score\n",
    "from sklearn.metrics import accuracy_score\n",
    "from sklearn.metrics import classification_report, confusion_matrix\n",
    "\n",
    "\n",
    "# Use the trained classifier to make predictions on the test data\n",
    "y_pred = knn.predict(embedding_test)\n",
    "\n",
    "# Calculate accuracy\n",
    "accuracy = accuracy_score(y_test, y_pred)\n",
    "\n",
    "# Calculate precision\n",
    "precision = precision_score(y_test, y_pred)\n",
    "\n",
    "# Calculate recall\n",
    "recall = recall_score(y_test, y_pred)\n",
    "\n",
    "# Calculate F1 score\n",
    "f1 = f1_score(y_test, y_pred)\n",
    "\n",
    "# Calculate confusion matrix\n",
    "cm = confusion_matrix(y_test, y_pred)\n",
    "\n",
    "# Print the results\n",
    "print(\"Accuracy:\", accuracy)\n",
    "print(\"Precision:\", precision)\n",
    "print(\"Recall:\", recall)\n",
    "print(\"F1 Score:\", f1)\n",
    "print(\"Confusion Matrix:\\n\", cm)"
   ]
  }
 ],
 "metadata": {
  "kernelspec": {
   "display_name": "Python 3 (ipykernel)",
   "language": "python",
   "name": "python3"
  },
  "language_info": {
   "codemirror_mode": {
    "name": "ipython",
    "version": 3
   },
   "file_extension": ".py",
   "mimetype": "text/x-python",
   "name": "python",
   "nbconvert_exporter": "python",
   "pygments_lexer": "ipython3",
   "version": "3.9.13"
  }
 },
 "nbformat": 4,
 "nbformat_minor": 5
}
